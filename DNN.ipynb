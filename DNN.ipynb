{
  "nbformat": 4,
  "nbformat_minor": 0,
  "metadata": {
    "colab": {
      "provenance": []
    },
    "kernelspec": {
      "name": "python3",
      "display_name": "Python 3"
    },
    "language_info": {
      "name": "python"
    }
  },
  "cells": [
    {
      "cell_type": "code",
      "source": [
        "import os\n",
        "import matplotlib.pyplot as plt\n",
        "import numpy as np\n",
        "import pandas as pd\n",
        "from pandas import DataFrame\n",
        "from scipy import misc\n",
        "import scipy.misc\n",
        "import keras"
      ],
      "metadata": {
        "id": "4TsLUHHPtgqc"
      },
      "execution_count": null,
      "outputs": []
    },
    {
      "cell_type": "code",
      "source": [
        "from google.colab import drive\n",
        "drive.mount('/content/drive')"
      ],
      "metadata": {
        "colab": {
          "base_uri": "https://localhost:8080/"
        },
        "id": "okWgCLj3tgTT",
        "outputId": "2e71a518-0bac-40f0-f304-988bb49a3778"
      },
      "execution_count": null,
      "outputs": [
        {
          "output_type": "stream",
          "name": "stdout",
          "text": [
            "Mounted at /content/drive\n"
          ]
        }
      ]
    },
    {
      "cell_type": "code",
      "execution_count": null,
      "metadata": {
        "id": "6DAydZ-XtWSb"
      },
      "outputs": [],
      "source": [
        "data = pd.read_csv(\"/content/drive/MyDrive/PROJECT/Dataset/trial/karimnagar_T.csv\",index_col=\"Date\")"
      ]
    },
    {
      "cell_type": "code",
      "source": [
        "data.head()"
      ],
      "metadata": {
        "colab": {
          "base_uri": "https://localhost:8080/",
          "height": 282
        },
        "id": "IHbwg5yrukjY",
        "outputId": "d8ed03bf-6924-4881-8131-576e13f7fe6d"
      },
      "execution_count": null,
      "outputs": [
        {
          "output_type": "execute_result",
          "data": {
            "text/plain": [
              "          Unnamed: 0  cumm_rainfall  temp_min  temp_max  humidity_min  \\\n",
              "Date                                                                    \n",
              "1/1/2018           0            0.0      13.6      33.2          32.0   \n",
              "1/2/2018           1            0.0      13.3      34.3          37.1   \n",
              "1/3/2018           2            0.0      13.0      33.2          37.7   \n",
              "1/4/2018           3            0.0      11.8      33.4          33.5   \n",
              "1/5/2018           4            0.0      12.3      32.9          31.6   \n",
              "\n",
              "          humidity_max  wind_speed_min  wind_speed_max heat_w  \n",
              "Date                                                           \n",
              "1/1/2018          47.7             0.0             2.9      F  \n",
              "1/2/2018          45.7             0.0             2.2      F  \n",
              "1/3/2018          55.2             0.0             3.5      F  \n",
              "1/4/2018          61.0             0.0             0.8      F  \n",
              "1/5/2018          53.2             0.0             2.6      F  "
            ],
            "text/html": [
              "\n",
              "  <div id=\"df-7773e63c-eff6-4938-b16f-0842edec39e0\">\n",
              "    <div class=\"colab-df-container\">\n",
              "      <div>\n",
              "<style scoped>\n",
              "    .dataframe tbody tr th:only-of-type {\n",
              "        vertical-align: middle;\n",
              "    }\n",
              "\n",
              "    .dataframe tbody tr th {\n",
              "        vertical-align: top;\n",
              "    }\n",
              "\n",
              "    .dataframe thead th {\n",
              "        text-align: right;\n",
              "    }\n",
              "</style>\n",
              "<table border=\"1\" class=\"dataframe\">\n",
              "  <thead>\n",
              "    <tr style=\"text-align: right;\">\n",
              "      <th></th>\n",
              "      <th>Unnamed: 0</th>\n",
              "      <th>cumm_rainfall</th>\n",
              "      <th>temp_min</th>\n",
              "      <th>temp_max</th>\n",
              "      <th>humidity_min</th>\n",
              "      <th>humidity_max</th>\n",
              "      <th>wind_speed_min</th>\n",
              "      <th>wind_speed_max</th>\n",
              "      <th>heat_w</th>\n",
              "    </tr>\n",
              "    <tr>\n",
              "      <th>Date</th>\n",
              "      <th></th>\n",
              "      <th></th>\n",
              "      <th></th>\n",
              "      <th></th>\n",
              "      <th></th>\n",
              "      <th></th>\n",
              "      <th></th>\n",
              "      <th></th>\n",
              "      <th></th>\n",
              "    </tr>\n",
              "  </thead>\n",
              "  <tbody>\n",
              "    <tr>\n",
              "      <th>1/1/2018</th>\n",
              "      <td>0</td>\n",
              "      <td>0.0</td>\n",
              "      <td>13.6</td>\n",
              "      <td>33.2</td>\n",
              "      <td>32.0</td>\n",
              "      <td>47.7</td>\n",
              "      <td>0.0</td>\n",
              "      <td>2.9</td>\n",
              "      <td>F</td>\n",
              "    </tr>\n",
              "    <tr>\n",
              "      <th>1/2/2018</th>\n",
              "      <td>1</td>\n",
              "      <td>0.0</td>\n",
              "      <td>13.3</td>\n",
              "      <td>34.3</td>\n",
              "      <td>37.1</td>\n",
              "      <td>45.7</td>\n",
              "      <td>0.0</td>\n",
              "      <td>2.2</td>\n",
              "      <td>F</td>\n",
              "    </tr>\n",
              "    <tr>\n",
              "      <th>1/3/2018</th>\n",
              "      <td>2</td>\n",
              "      <td>0.0</td>\n",
              "      <td>13.0</td>\n",
              "      <td>33.2</td>\n",
              "      <td>37.7</td>\n",
              "      <td>55.2</td>\n",
              "      <td>0.0</td>\n",
              "      <td>3.5</td>\n",
              "      <td>F</td>\n",
              "    </tr>\n",
              "    <tr>\n",
              "      <th>1/4/2018</th>\n",
              "      <td>3</td>\n",
              "      <td>0.0</td>\n",
              "      <td>11.8</td>\n",
              "      <td>33.4</td>\n",
              "      <td>33.5</td>\n",
              "      <td>61.0</td>\n",
              "      <td>0.0</td>\n",
              "      <td>0.8</td>\n",
              "      <td>F</td>\n",
              "    </tr>\n",
              "    <tr>\n",
              "      <th>1/5/2018</th>\n",
              "      <td>4</td>\n",
              "      <td>0.0</td>\n",
              "      <td>12.3</td>\n",
              "      <td>32.9</td>\n",
              "      <td>31.6</td>\n",
              "      <td>53.2</td>\n",
              "      <td>0.0</td>\n",
              "      <td>2.6</td>\n",
              "      <td>F</td>\n",
              "    </tr>\n",
              "  </tbody>\n",
              "</table>\n",
              "</div>\n",
              "      <button class=\"colab-df-convert\" onclick=\"convertToInteractive('df-7773e63c-eff6-4938-b16f-0842edec39e0')\"\n",
              "              title=\"Convert this dataframe to an interactive table.\"\n",
              "              style=\"display:none;\">\n",
              "        \n",
              "  <svg xmlns=\"http://www.w3.org/2000/svg\" height=\"24px\"viewBox=\"0 0 24 24\"\n",
              "       width=\"24px\">\n",
              "    <path d=\"M0 0h24v24H0V0z\" fill=\"none\"/>\n",
              "    <path d=\"M18.56 5.44l.94 2.06.94-2.06 2.06-.94-2.06-.94-.94-2.06-.94 2.06-2.06.94zm-11 1L8.5 8.5l.94-2.06 2.06-.94-2.06-.94L8.5 2.5l-.94 2.06-2.06.94zm10 10l.94 2.06.94-2.06 2.06-.94-2.06-.94-.94-2.06-.94 2.06-2.06.94z\"/><path d=\"M17.41 7.96l-1.37-1.37c-.4-.4-.92-.59-1.43-.59-.52 0-1.04.2-1.43.59L10.3 9.45l-7.72 7.72c-.78.78-.78 2.05 0 2.83L4 21.41c.39.39.9.59 1.41.59.51 0 1.02-.2 1.41-.59l7.78-7.78 2.81-2.81c.8-.78.8-2.07 0-2.86zM5.41 20L4 18.59l7.72-7.72 1.47 1.35L5.41 20z\"/>\n",
              "  </svg>\n",
              "      </button>\n",
              "      \n",
              "  <style>\n",
              "    .colab-df-container {\n",
              "      display:flex;\n",
              "      flex-wrap:wrap;\n",
              "      gap: 12px;\n",
              "    }\n",
              "\n",
              "    .colab-df-convert {\n",
              "      background-color: #E8F0FE;\n",
              "      border: none;\n",
              "      border-radius: 50%;\n",
              "      cursor: pointer;\n",
              "      display: none;\n",
              "      fill: #1967D2;\n",
              "      height: 32px;\n",
              "      padding: 0 0 0 0;\n",
              "      width: 32px;\n",
              "    }\n",
              "\n",
              "    .colab-df-convert:hover {\n",
              "      background-color: #E2EBFA;\n",
              "      box-shadow: 0px 1px 2px rgba(60, 64, 67, 0.3), 0px 1px 3px 1px rgba(60, 64, 67, 0.15);\n",
              "      fill: #174EA6;\n",
              "    }\n",
              "\n",
              "    [theme=dark] .colab-df-convert {\n",
              "      background-color: #3B4455;\n",
              "      fill: #D2E3FC;\n",
              "    }\n",
              "\n",
              "    [theme=dark] .colab-df-convert:hover {\n",
              "      background-color: #434B5C;\n",
              "      box-shadow: 0px 1px 3px 1px rgba(0, 0, 0, 0.15);\n",
              "      filter: drop-shadow(0px 1px 2px rgba(0, 0, 0, 0.3));\n",
              "      fill: #FFFFFF;\n",
              "    }\n",
              "  </style>\n",
              "\n",
              "      <script>\n",
              "        const buttonEl =\n",
              "          document.querySelector('#df-7773e63c-eff6-4938-b16f-0842edec39e0 button.colab-df-convert');\n",
              "        buttonEl.style.display =\n",
              "          google.colab.kernel.accessAllowed ? 'block' : 'none';\n",
              "\n",
              "        async function convertToInteractive(key) {\n",
              "          const element = document.querySelector('#df-7773e63c-eff6-4938-b16f-0842edec39e0');\n",
              "          const dataTable =\n",
              "            await google.colab.kernel.invokeFunction('convertToInteractive',\n",
              "                                                     [key], {});\n",
              "          if (!dataTable) return;\n",
              "\n",
              "          const docLinkHtml = 'Like what you see? Visit the ' +\n",
              "            '<a target=\"_blank\" href=https://colab.research.google.com/notebooks/data_table.ipynb>data table notebook</a>'\n",
              "            + ' to learn more about interactive tables.';\n",
              "          element.innerHTML = '';\n",
              "          dataTable['output_type'] = 'display_data';\n",
              "          await google.colab.output.renderOutput(dataTable, element);\n",
              "          const docLink = document.createElement('div');\n",
              "          docLink.innerHTML = docLinkHtml;\n",
              "          element.appendChild(docLink);\n",
              "        }\n",
              "      </script>\n",
              "    </div>\n",
              "  </div>\n",
              "  "
            ]
          },
          "metadata": {},
          "execution_count": 4
        }
      ]
    },
    {
      "cell_type": "code",
      "source": [
        "from sklearn.preprocessing import LabelEncoder\n",
        "le = LabelEncoder()\n",
        "# Fit and transform the categorical feature using LabelEncoder\n",
        "data['heat_w'] = le.fit_transform(data['heat_w'])"
      ],
      "metadata": {
        "id": "p2UiruSrup3k"
      },
      "execution_count": null,
      "outputs": []
    },
    {
      "cell_type": "code",
      "source": [
        "data.head()"
      ],
      "metadata": {
        "colab": {
          "base_uri": "https://localhost:8080/",
          "height": 282
        },
        "id": "HyKF9itXu3Do",
        "outputId": "42bdc8c8-c1a9-4059-ca69-061af37290be"
      },
      "execution_count": null,
      "outputs": [
        {
          "output_type": "execute_result",
          "data": {
            "text/plain": [
              "          Unnamed: 0  cumm_rainfall  temp_min  temp_max  humidity_min  \\\n",
              "Date                                                                    \n",
              "1/1/2018           0            0.0      13.6      33.2          32.0   \n",
              "1/2/2018           1            0.0      13.3      34.3          37.1   \n",
              "1/3/2018           2            0.0      13.0      33.2          37.7   \n",
              "1/4/2018           3            0.0      11.8      33.4          33.5   \n",
              "1/5/2018           4            0.0      12.3      32.9          31.6   \n",
              "\n",
              "          humidity_max  wind_speed_min  wind_speed_max  heat_w  \n",
              "Date                                                            \n",
              "1/1/2018          47.7             0.0             2.9       0  \n",
              "1/2/2018          45.7             0.0             2.2       0  \n",
              "1/3/2018          55.2             0.0             3.5       0  \n",
              "1/4/2018          61.0             0.0             0.8       0  \n",
              "1/5/2018          53.2             0.0             2.6       0  "
            ],
            "text/html": [
              "\n",
              "  <div id=\"df-77b678c2-1341-497f-b340-4517752aaa1f\">\n",
              "    <div class=\"colab-df-container\">\n",
              "      <div>\n",
              "<style scoped>\n",
              "    .dataframe tbody tr th:only-of-type {\n",
              "        vertical-align: middle;\n",
              "    }\n",
              "\n",
              "    .dataframe tbody tr th {\n",
              "        vertical-align: top;\n",
              "    }\n",
              "\n",
              "    .dataframe thead th {\n",
              "        text-align: right;\n",
              "    }\n",
              "</style>\n",
              "<table border=\"1\" class=\"dataframe\">\n",
              "  <thead>\n",
              "    <tr style=\"text-align: right;\">\n",
              "      <th></th>\n",
              "      <th>Unnamed: 0</th>\n",
              "      <th>cumm_rainfall</th>\n",
              "      <th>temp_min</th>\n",
              "      <th>temp_max</th>\n",
              "      <th>humidity_min</th>\n",
              "      <th>humidity_max</th>\n",
              "      <th>wind_speed_min</th>\n",
              "      <th>wind_speed_max</th>\n",
              "      <th>heat_w</th>\n",
              "    </tr>\n",
              "    <tr>\n",
              "      <th>Date</th>\n",
              "      <th></th>\n",
              "      <th></th>\n",
              "      <th></th>\n",
              "      <th></th>\n",
              "      <th></th>\n",
              "      <th></th>\n",
              "      <th></th>\n",
              "      <th></th>\n",
              "      <th></th>\n",
              "    </tr>\n",
              "  </thead>\n",
              "  <tbody>\n",
              "    <tr>\n",
              "      <th>1/1/2018</th>\n",
              "      <td>0</td>\n",
              "      <td>0.0</td>\n",
              "      <td>13.6</td>\n",
              "      <td>33.2</td>\n",
              "      <td>32.0</td>\n",
              "      <td>47.7</td>\n",
              "      <td>0.0</td>\n",
              "      <td>2.9</td>\n",
              "      <td>0</td>\n",
              "    </tr>\n",
              "    <tr>\n",
              "      <th>1/2/2018</th>\n",
              "      <td>1</td>\n",
              "      <td>0.0</td>\n",
              "      <td>13.3</td>\n",
              "      <td>34.3</td>\n",
              "      <td>37.1</td>\n",
              "      <td>45.7</td>\n",
              "      <td>0.0</td>\n",
              "      <td>2.2</td>\n",
              "      <td>0</td>\n",
              "    </tr>\n",
              "    <tr>\n",
              "      <th>1/3/2018</th>\n",
              "      <td>2</td>\n",
              "      <td>0.0</td>\n",
              "      <td>13.0</td>\n",
              "      <td>33.2</td>\n",
              "      <td>37.7</td>\n",
              "      <td>55.2</td>\n",
              "      <td>0.0</td>\n",
              "      <td>3.5</td>\n",
              "      <td>0</td>\n",
              "    </tr>\n",
              "    <tr>\n",
              "      <th>1/4/2018</th>\n",
              "      <td>3</td>\n",
              "      <td>0.0</td>\n",
              "      <td>11.8</td>\n",
              "      <td>33.4</td>\n",
              "      <td>33.5</td>\n",
              "      <td>61.0</td>\n",
              "      <td>0.0</td>\n",
              "      <td>0.8</td>\n",
              "      <td>0</td>\n",
              "    </tr>\n",
              "    <tr>\n",
              "      <th>1/5/2018</th>\n",
              "      <td>4</td>\n",
              "      <td>0.0</td>\n",
              "      <td>12.3</td>\n",
              "      <td>32.9</td>\n",
              "      <td>31.6</td>\n",
              "      <td>53.2</td>\n",
              "      <td>0.0</td>\n",
              "      <td>2.6</td>\n",
              "      <td>0</td>\n",
              "    </tr>\n",
              "  </tbody>\n",
              "</table>\n",
              "</div>\n",
              "      <button class=\"colab-df-convert\" onclick=\"convertToInteractive('df-77b678c2-1341-497f-b340-4517752aaa1f')\"\n",
              "              title=\"Convert this dataframe to an interactive table.\"\n",
              "              style=\"display:none;\">\n",
              "        \n",
              "  <svg xmlns=\"http://www.w3.org/2000/svg\" height=\"24px\"viewBox=\"0 0 24 24\"\n",
              "       width=\"24px\">\n",
              "    <path d=\"M0 0h24v24H0V0z\" fill=\"none\"/>\n",
              "    <path d=\"M18.56 5.44l.94 2.06.94-2.06 2.06-.94-2.06-.94-.94-2.06-.94 2.06-2.06.94zm-11 1L8.5 8.5l.94-2.06 2.06-.94-2.06-.94L8.5 2.5l-.94 2.06-2.06.94zm10 10l.94 2.06.94-2.06 2.06-.94-2.06-.94-.94-2.06-.94 2.06-2.06.94z\"/><path d=\"M17.41 7.96l-1.37-1.37c-.4-.4-.92-.59-1.43-.59-.52 0-1.04.2-1.43.59L10.3 9.45l-7.72 7.72c-.78.78-.78 2.05 0 2.83L4 21.41c.39.39.9.59 1.41.59.51 0 1.02-.2 1.41-.59l7.78-7.78 2.81-2.81c.8-.78.8-2.07 0-2.86zM5.41 20L4 18.59l7.72-7.72 1.47 1.35L5.41 20z\"/>\n",
              "  </svg>\n",
              "      </button>\n",
              "      \n",
              "  <style>\n",
              "    .colab-df-container {\n",
              "      display:flex;\n",
              "      flex-wrap:wrap;\n",
              "      gap: 12px;\n",
              "    }\n",
              "\n",
              "    .colab-df-convert {\n",
              "      background-color: #E8F0FE;\n",
              "      border: none;\n",
              "      border-radius: 50%;\n",
              "      cursor: pointer;\n",
              "      display: none;\n",
              "      fill: #1967D2;\n",
              "      height: 32px;\n",
              "      padding: 0 0 0 0;\n",
              "      width: 32px;\n",
              "    }\n",
              "\n",
              "    .colab-df-convert:hover {\n",
              "      background-color: #E2EBFA;\n",
              "      box-shadow: 0px 1px 2px rgba(60, 64, 67, 0.3), 0px 1px 3px 1px rgba(60, 64, 67, 0.15);\n",
              "      fill: #174EA6;\n",
              "    }\n",
              "\n",
              "    [theme=dark] .colab-df-convert {\n",
              "      background-color: #3B4455;\n",
              "      fill: #D2E3FC;\n",
              "    }\n",
              "\n",
              "    [theme=dark] .colab-df-convert:hover {\n",
              "      background-color: #434B5C;\n",
              "      box-shadow: 0px 1px 3px 1px rgba(0, 0, 0, 0.15);\n",
              "      filter: drop-shadow(0px 1px 2px rgba(0, 0, 0, 0.3));\n",
              "      fill: #FFFFFF;\n",
              "    }\n",
              "  </style>\n",
              "\n",
              "      <script>\n",
              "        const buttonEl =\n",
              "          document.querySelector('#df-77b678c2-1341-497f-b340-4517752aaa1f button.colab-df-convert');\n",
              "        buttonEl.style.display =\n",
              "          google.colab.kernel.accessAllowed ? 'block' : 'none';\n",
              "\n",
              "        async function convertToInteractive(key) {\n",
              "          const element = document.querySelector('#df-77b678c2-1341-497f-b340-4517752aaa1f');\n",
              "          const dataTable =\n",
              "            await google.colab.kernel.invokeFunction('convertToInteractive',\n",
              "                                                     [key], {});\n",
              "          if (!dataTable) return;\n",
              "\n",
              "          const docLinkHtml = 'Like what you see? Visit the ' +\n",
              "            '<a target=\"_blank\" href=https://colab.research.google.com/notebooks/data_table.ipynb>data table notebook</a>'\n",
              "            + ' to learn more about interactive tables.';\n",
              "          element.innerHTML = '';\n",
              "          dataTable['output_type'] = 'display_data';\n",
              "          await google.colab.output.renderOutput(dataTable, element);\n",
              "          const docLink = document.createElement('div');\n",
              "          docLink.innerHTML = docLinkHtml;\n",
              "          element.appendChild(docLink);\n",
              "        }\n",
              "      </script>\n",
              "    </div>\n",
              "  </div>\n",
              "  "
            ]
          },
          "metadata": {},
          "execution_count": 6
        }
      ]
    },
    {
      "cell_type": "code",
      "source": [
        "df=data\n",
        "data=data.drop(['Unnamed: 0'], axis = 1)"
      ],
      "metadata": {
        "id": "8JMVDz7SvLgJ"
      },
      "execution_count": null,
      "outputs": []
    },
    {
      "cell_type": "code",
      "source": [
        "from sklearn.preprocessing import MinMaxScaler\n",
        "scaler = MinMaxScaler()\n",
        "data['temp_min'] = scaler.fit_transform(data['temp_min'].values.reshape(-1,1))\n",
        "data['cumm_rainfall'] = scaler.fit_transform(data['cumm_rainfall'].values.reshape(-1,1))\n",
        "data['temp_max'] = scaler.fit_transform(data['temp_max'].values.reshape(-1,1))\n",
        "data['humidity_min'] = scaler.fit_transform(data['humidity_min'].values.reshape(-1,1))\n",
        "data['humidity_max'] = scaler.fit_transform(data['humidity_max'].values.reshape(-1,1))\n",
        "data['wind_speed_min'] = scaler.fit_transform(data['wind_speed_min'].values.reshape(-1,1))\n",
        "data['wind_speed_max'] = scaler.fit_transform(data['wind_speed_max'].values.reshape(-1,1))"
      ],
      "metadata": {
        "id": "mFSYOOKmvki3"
      },
      "execution_count": null,
      "outputs": []
    },
    {
      "cell_type": "code",
      "source": [
        "data"
      ],
      "metadata": {
        "colab": {
          "base_uri": "https://localhost:8080/",
          "height": 455
        },
        "id": "9daNnfq2v5ss",
        "outputId": "fcbdebf6-3d38-4f8a-c710-41699893751f"
      },
      "execution_count": null,
      "outputs": [
        {
          "output_type": "execute_result",
          "data": {
            "text/plain": [
              "           cumm_rainfall  temp_min  temp_max  humidity_min  humidity_max  \\\n",
              "Date                                                                       \n",
              "1/1/2018        0.000000  0.262069  0.492424      0.320320         0.477   \n",
              "1/2/2018        0.000000  0.251724  0.534091      0.371371         0.457   \n",
              "1/3/2018        0.000000  0.241379  0.492424      0.377377         0.552   \n",
              "1/4/2018        0.000000  0.200000  0.500000      0.335335         0.610   \n",
              "1/5/2018        0.000000  0.217241  0.481061      0.316316         0.532   \n",
              "...                  ...       ...       ...           ...           ...   \n",
              "9/26/2022       0.000000  0.624138  0.477273      0.584585         0.986   \n",
              "9/27/2022       0.000000  0.624138  0.496212      0.625626         0.943   \n",
              "9/28/2022       0.000000  0.648276  0.458333      0.690691         0.980   \n",
              "9/29/2022       0.159333  0.620690  0.450758      0.703704         0.989   \n",
              "9/30/2022       0.037333  0.593103  0.469697      0.711712         0.987   \n",
              "\n",
              "           wind_speed_min  wind_speed_max  heat_w  \n",
              "Date                                               \n",
              "1/1/2018              0.0        0.043027       0  \n",
              "1/2/2018              0.0        0.032641       0  \n",
              "1/3/2018              0.0        0.051929       0  \n",
              "1/4/2018              0.0        0.011869       0  \n",
              "1/5/2018              0.0        0.038576       0  \n",
              "...                   ...             ...     ...  \n",
              "9/26/2022             0.0        0.115727       0  \n",
              "9/27/2022             0.0        0.154303       0  \n",
              "9/28/2022             0.0        0.096439       0  \n",
              "9/29/2022             0.0        0.105341       0  \n",
              "9/30/2022             0.0        0.151335       0  \n",
              "\n",
              "[1734 rows x 8 columns]"
            ],
            "text/html": [
              "\n",
              "  <div id=\"df-d4d04b47-39d7-435a-b3e3-f7ac62bd930f\">\n",
              "    <div class=\"colab-df-container\">\n",
              "      <div>\n",
              "<style scoped>\n",
              "    .dataframe tbody tr th:only-of-type {\n",
              "        vertical-align: middle;\n",
              "    }\n",
              "\n",
              "    .dataframe tbody tr th {\n",
              "        vertical-align: top;\n",
              "    }\n",
              "\n",
              "    .dataframe thead th {\n",
              "        text-align: right;\n",
              "    }\n",
              "</style>\n",
              "<table border=\"1\" class=\"dataframe\">\n",
              "  <thead>\n",
              "    <tr style=\"text-align: right;\">\n",
              "      <th></th>\n",
              "      <th>cumm_rainfall</th>\n",
              "      <th>temp_min</th>\n",
              "      <th>temp_max</th>\n",
              "      <th>humidity_min</th>\n",
              "      <th>humidity_max</th>\n",
              "      <th>wind_speed_min</th>\n",
              "      <th>wind_speed_max</th>\n",
              "      <th>heat_w</th>\n",
              "    </tr>\n",
              "    <tr>\n",
              "      <th>Date</th>\n",
              "      <th></th>\n",
              "      <th></th>\n",
              "      <th></th>\n",
              "      <th></th>\n",
              "      <th></th>\n",
              "      <th></th>\n",
              "      <th></th>\n",
              "      <th></th>\n",
              "    </tr>\n",
              "  </thead>\n",
              "  <tbody>\n",
              "    <tr>\n",
              "      <th>1/1/2018</th>\n",
              "      <td>0.000000</td>\n",
              "      <td>0.262069</td>\n",
              "      <td>0.492424</td>\n",
              "      <td>0.320320</td>\n",
              "      <td>0.477</td>\n",
              "      <td>0.0</td>\n",
              "      <td>0.043027</td>\n",
              "      <td>0</td>\n",
              "    </tr>\n",
              "    <tr>\n",
              "      <th>1/2/2018</th>\n",
              "      <td>0.000000</td>\n",
              "      <td>0.251724</td>\n",
              "      <td>0.534091</td>\n",
              "      <td>0.371371</td>\n",
              "      <td>0.457</td>\n",
              "      <td>0.0</td>\n",
              "      <td>0.032641</td>\n",
              "      <td>0</td>\n",
              "    </tr>\n",
              "    <tr>\n",
              "      <th>1/3/2018</th>\n",
              "      <td>0.000000</td>\n",
              "      <td>0.241379</td>\n",
              "      <td>0.492424</td>\n",
              "      <td>0.377377</td>\n",
              "      <td>0.552</td>\n",
              "      <td>0.0</td>\n",
              "      <td>0.051929</td>\n",
              "      <td>0</td>\n",
              "    </tr>\n",
              "    <tr>\n",
              "      <th>1/4/2018</th>\n",
              "      <td>0.000000</td>\n",
              "      <td>0.200000</td>\n",
              "      <td>0.500000</td>\n",
              "      <td>0.335335</td>\n",
              "      <td>0.610</td>\n",
              "      <td>0.0</td>\n",
              "      <td>0.011869</td>\n",
              "      <td>0</td>\n",
              "    </tr>\n",
              "    <tr>\n",
              "      <th>1/5/2018</th>\n",
              "      <td>0.000000</td>\n",
              "      <td>0.217241</td>\n",
              "      <td>0.481061</td>\n",
              "      <td>0.316316</td>\n",
              "      <td>0.532</td>\n",
              "      <td>0.0</td>\n",
              "      <td>0.038576</td>\n",
              "      <td>0</td>\n",
              "    </tr>\n",
              "    <tr>\n",
              "      <th>...</th>\n",
              "      <td>...</td>\n",
              "      <td>...</td>\n",
              "      <td>...</td>\n",
              "      <td>...</td>\n",
              "      <td>...</td>\n",
              "      <td>...</td>\n",
              "      <td>...</td>\n",
              "      <td>...</td>\n",
              "    </tr>\n",
              "    <tr>\n",
              "      <th>9/26/2022</th>\n",
              "      <td>0.000000</td>\n",
              "      <td>0.624138</td>\n",
              "      <td>0.477273</td>\n",
              "      <td>0.584585</td>\n",
              "      <td>0.986</td>\n",
              "      <td>0.0</td>\n",
              "      <td>0.115727</td>\n",
              "      <td>0</td>\n",
              "    </tr>\n",
              "    <tr>\n",
              "      <th>9/27/2022</th>\n",
              "      <td>0.000000</td>\n",
              "      <td>0.624138</td>\n",
              "      <td>0.496212</td>\n",
              "      <td>0.625626</td>\n",
              "      <td>0.943</td>\n",
              "      <td>0.0</td>\n",
              "      <td>0.154303</td>\n",
              "      <td>0</td>\n",
              "    </tr>\n",
              "    <tr>\n",
              "      <th>9/28/2022</th>\n",
              "      <td>0.000000</td>\n",
              "      <td>0.648276</td>\n",
              "      <td>0.458333</td>\n",
              "      <td>0.690691</td>\n",
              "      <td>0.980</td>\n",
              "      <td>0.0</td>\n",
              "      <td>0.096439</td>\n",
              "      <td>0</td>\n",
              "    </tr>\n",
              "    <tr>\n",
              "      <th>9/29/2022</th>\n",
              "      <td>0.159333</td>\n",
              "      <td>0.620690</td>\n",
              "      <td>0.450758</td>\n",
              "      <td>0.703704</td>\n",
              "      <td>0.989</td>\n",
              "      <td>0.0</td>\n",
              "      <td>0.105341</td>\n",
              "      <td>0</td>\n",
              "    </tr>\n",
              "    <tr>\n",
              "      <th>9/30/2022</th>\n",
              "      <td>0.037333</td>\n",
              "      <td>0.593103</td>\n",
              "      <td>0.469697</td>\n",
              "      <td>0.711712</td>\n",
              "      <td>0.987</td>\n",
              "      <td>0.0</td>\n",
              "      <td>0.151335</td>\n",
              "      <td>0</td>\n",
              "    </tr>\n",
              "  </tbody>\n",
              "</table>\n",
              "<p>1734 rows × 8 columns</p>\n",
              "</div>\n",
              "      <button class=\"colab-df-convert\" onclick=\"convertToInteractive('df-d4d04b47-39d7-435a-b3e3-f7ac62bd930f')\"\n",
              "              title=\"Convert this dataframe to an interactive table.\"\n",
              "              style=\"display:none;\">\n",
              "        \n",
              "  <svg xmlns=\"http://www.w3.org/2000/svg\" height=\"24px\"viewBox=\"0 0 24 24\"\n",
              "       width=\"24px\">\n",
              "    <path d=\"M0 0h24v24H0V0z\" fill=\"none\"/>\n",
              "    <path d=\"M18.56 5.44l.94 2.06.94-2.06 2.06-.94-2.06-.94-.94-2.06-.94 2.06-2.06.94zm-11 1L8.5 8.5l.94-2.06 2.06-.94-2.06-.94L8.5 2.5l-.94 2.06-2.06.94zm10 10l.94 2.06.94-2.06 2.06-.94-2.06-.94-.94-2.06-.94 2.06-2.06.94z\"/><path d=\"M17.41 7.96l-1.37-1.37c-.4-.4-.92-.59-1.43-.59-.52 0-1.04.2-1.43.59L10.3 9.45l-7.72 7.72c-.78.78-.78 2.05 0 2.83L4 21.41c.39.39.9.59 1.41.59.51 0 1.02-.2 1.41-.59l7.78-7.78 2.81-2.81c.8-.78.8-2.07 0-2.86zM5.41 20L4 18.59l7.72-7.72 1.47 1.35L5.41 20z\"/>\n",
              "  </svg>\n",
              "      </button>\n",
              "      \n",
              "  <style>\n",
              "    .colab-df-container {\n",
              "      display:flex;\n",
              "      flex-wrap:wrap;\n",
              "      gap: 12px;\n",
              "    }\n",
              "\n",
              "    .colab-df-convert {\n",
              "      background-color: #E8F0FE;\n",
              "      border: none;\n",
              "      border-radius: 50%;\n",
              "      cursor: pointer;\n",
              "      display: none;\n",
              "      fill: #1967D2;\n",
              "      height: 32px;\n",
              "      padding: 0 0 0 0;\n",
              "      width: 32px;\n",
              "    }\n",
              "\n",
              "    .colab-df-convert:hover {\n",
              "      background-color: #E2EBFA;\n",
              "      box-shadow: 0px 1px 2px rgba(60, 64, 67, 0.3), 0px 1px 3px 1px rgba(60, 64, 67, 0.15);\n",
              "      fill: #174EA6;\n",
              "    }\n",
              "\n",
              "    [theme=dark] .colab-df-convert {\n",
              "      background-color: #3B4455;\n",
              "      fill: #D2E3FC;\n",
              "    }\n",
              "\n",
              "    [theme=dark] .colab-df-convert:hover {\n",
              "      background-color: #434B5C;\n",
              "      box-shadow: 0px 1px 3px 1px rgba(0, 0, 0, 0.15);\n",
              "      filter: drop-shadow(0px 1px 2px rgba(0, 0, 0, 0.3));\n",
              "      fill: #FFFFFF;\n",
              "    }\n",
              "  </style>\n",
              "\n",
              "      <script>\n",
              "        const buttonEl =\n",
              "          document.querySelector('#df-d4d04b47-39d7-435a-b3e3-f7ac62bd930f button.colab-df-convert');\n",
              "        buttonEl.style.display =\n",
              "          google.colab.kernel.accessAllowed ? 'block' : 'none';\n",
              "\n",
              "        async function convertToInteractive(key) {\n",
              "          const element = document.querySelector('#df-d4d04b47-39d7-435a-b3e3-f7ac62bd930f');\n",
              "          const dataTable =\n",
              "            await google.colab.kernel.invokeFunction('convertToInteractive',\n",
              "                                                     [key], {});\n",
              "          if (!dataTable) return;\n",
              "\n",
              "          const docLinkHtml = 'Like what you see? Visit the ' +\n",
              "            '<a target=\"_blank\" href=https://colab.research.google.com/notebooks/data_table.ipynb>data table notebook</a>'\n",
              "            + ' to learn more about interactive tables.';\n",
              "          element.innerHTML = '';\n",
              "          dataTable['output_type'] = 'display_data';\n",
              "          await google.colab.output.renderOutput(dataTable, element);\n",
              "          const docLink = document.createElement('div');\n",
              "          docLink.innerHTML = docLinkHtml;\n",
              "          element.appendChild(docLink);\n",
              "        }\n",
              "      </script>\n",
              "    </div>\n",
              "  </div>\n",
              "  "
            ]
          },
          "metadata": {},
          "execution_count": 9
        }
      ]
    },
    {
      "cell_type": "code",
      "source": [
        "data.shape"
      ],
      "metadata": {
        "colab": {
          "base_uri": "https://localhost:8080/"
        },
        "id": "oTQ5N7Mt0z30",
        "outputId": "67108f9a-7ae8-4c2a-a8a4-8f9ecbf46752"
      },
      "execution_count": null,
      "outputs": [
        {
          "output_type": "execute_result",
          "data": {
            "text/plain": [
              "(1734, 8)"
            ]
          },
          "metadata": {},
          "execution_count": 18
        }
      ]
    },
    {
      "cell_type": "code",
      "source": [
        "from sklearn.model_selection import train_test_split\n",
        "np.random.seed(1)\n",
        "data_train, data_test = train_test_split(data, test_size=0.2)\n",
        "#data_train=data\n",
        "#data_test=data\n",
        "print(data_test.shape)\n",
        "print(data_train.shape)"
      ],
      "metadata": {
        "colab": {
          "base_uri": "https://localhost:8080/"
        },
        "id": "kBGg70C7v9Iq",
        "outputId": "145285d6-54bc-4173-db6f-6af0e3a8c901"
      },
      "execution_count": null,
      "outputs": [
        {
          "output_type": "stream",
          "name": "stdout",
          "text": [
            "(347, 8)\n",
            "(1387, 8)\n"
          ]
        }
      ]
    },
    {
      "cell_type": "code",
      "source": [
        "data_train = data_train[data_train.heat_w == 0]"
      ],
      "metadata": {
        "id": "2HMWlo-iwgXW"
      },
      "execution_count": null,
      "outputs": []
    },
    {
      "cell_type": "code",
      "source": [
        "X_train = data_train.drop(['heat_w'], axis = 1).values\n",
        "#X_train = data_train\n",
        "X_test = data_test.drop(['heat_w'], axis = 1).values\n",
        "#X_test = data_test\n",
        "Y_test = data_test['heat_w']"
      ],
      "metadata": {
        "id": "Ion6Zrywws6I"
      },
      "execution_count": null,
      "outputs": []
    },
    {
      "cell_type": "code",
      "source": [
        "import tensorflow as tf"
      ],
      "metadata": {
        "id": "PD6oJ1jbxMXg"
      },
      "execution_count": null,
      "outputs": []
    },
    {
      "cell_type": "code",
      "source": [
        "min_val = tf.reduce_min(X_train)\n",
        "max_val = tf.reduce_max(X_train)\n",
        "X_train = (X_train - min_val) / (max_val - min_val)\n",
        "X_test = (X_test - min_val) / (max_val - min_val)\n",
        "X_train = tf.cast(X_train, tf.float32)\n",
        "X_test = tf.cast(X_test, tf.float32)"
      ],
      "metadata": {
        "id": "zMH_zqSdxBre"
      },
      "execution_count": null,
      "outputs": []
    },
    {
      "cell_type": "code",
      "source": [
        "X_train"
      ],
      "metadata": {
        "colab": {
          "base_uri": "https://localhost:8080/"
        },
        "id": "xq5U5QW9xIU7",
        "outputId": "b633e4ed-9699-4eb6-e298-6321931a9887"
      },
      "execution_count": null,
      "outputs": [
        {
          "output_type": "execute_result",
          "data": {
            "text/plain": [
              "<tf.Tensor: shape=(1272, 7), dtype=float32, numpy=\n",
              "array([[0.        , 0.7862069 , 0.75757575, ..., 0.634     , 0.06967213,\n",
              "        0.1661721 ],\n",
              "       [0.01866667, 0.6413793 , 0.5265151 , ..., 0.971     , 0.        ,\n",
              "        0.11424332],\n",
              "       [0.        , 0.6034483 , 0.57954544, ..., 0.825     , 0.        ,\n",
              "        0.05637982],\n",
              "       ...,\n",
              "       [0.        , 0.4448276 , 0.32954547, ..., 0.809     , 0.        ,\n",
              "        0.06246128],\n",
              "       [0.01      , 0.6172414 , 0.46969697, ..., 0.961     , 0.        ,\n",
              "        0.09198813],\n",
              "       [0.        , 0.4862069 , 0.29924244, ..., 0.745     , 0.        ,\n",
              "        0.11127596]], dtype=float32)>"
            ]
          },
          "metadata": {},
          "execution_count": 16
        }
      ]
    },
    {
      "cell_type": "code",
      "source": [
        "from tensorflow.keras.models import Sequential\n",
        "from tensorflow.keras.layers import Dense,Activation,Flatten,Dropout\n",
        "import random\n",
        "from tensorflow.keras.optimizers import SGD"
      ],
      "metadata": {
        "id": "L5If3K2JxuMI"
      },
      "execution_count": null,
      "outputs": []
    },
    {
      "cell_type": "code",
      "source": [
        "random.seed(42)\n",
        "np.random.seed(42)\n",
        "tf.random.set_seed(42)\n",
        "dnnModel=Sequential()\n",
        "dnnModel.add(Dense(256,activation=\"relu\",input_shape=(1734,)))\n",
        "dnnModel.add(Dense(256,activation=\"relu\"))\n",
        "dnnModel.add(Dense(128,activation=\"relu\"))\n",
        "dnnModel.add(Dense(64,activation=\"relu\"))\n",
        "dnnModel.add(Dropout(0.5))\n",
        "dnnModel.add(Dense(2,activation=\"softmax\"))\n",
        "dnnModel.summary()"
      ],
      "metadata": {
        "colab": {
          "base_uri": "https://localhost:8080/"
        },
        "id": "KCUtftT8zCwY",
        "outputId": "e48ad5e5-31a7-43ce-92e4-2f76c66bc2b5"
      },
      "execution_count": null,
      "outputs": [
        {
          "output_type": "stream",
          "name": "stdout",
          "text": [
            "Model: \"sequential_1\"\n",
            "_________________________________________________________________\n",
            " Layer (type)                Output Shape              Param #   \n",
            "=================================================================\n",
            " dense_1 (Dense)             (None, 256)               444160    \n",
            "                                                                 \n",
            " dense_2 (Dense)             (None, 256)               65792     \n",
            "                                                                 \n",
            " dense_3 (Dense)             (None, 128)               32896     \n",
            "                                                                 \n",
            " dense_4 (Dense)             (None, 64)                8256      \n",
            "                                                                 \n",
            " dropout (Dropout)           (None, 64)                0         \n",
            "                                                                 \n",
            " dense_5 (Dense)             (None, 2)                 130       \n",
            "                                                                 \n",
            "=================================================================\n",
            "Total params: 551,234\n",
            "Trainable params: 551,234\n",
            "Non-trainable params: 0\n",
            "_________________________________________________________________\n"
          ]
        }
      ]
    },
    {
      "cell_type": "code",
      "source": [
        "sgd=SGD(lr=0.01)"
      ],
      "metadata": {
        "colab": {
          "base_uri": "https://localhost:8080/"
        },
        "id": "IGa_0giMEVgB",
        "outputId": "ecf838cf-0663-4db0-9c8e-35f16f44c2f1"
      },
      "execution_count": null,
      "outputs": [
        {
          "output_type": "stream",
          "name": "stderr",
          "text": [
            "WARNING:absl:`lr` is deprecated in Keras optimizer, please use `learning_rate` or use the legacy optimizer, e.g.,tf.keras.optimizers.legacy.SGD.\n"
          ]
        }
      ]
    },
    {
      "cell_type": "code",
      "source": [
        "dnnModel.compile(optimizer='sgd',loss=\"binary_crossentropy\",metrics=[\"accuracy\"])"
      ],
      "metadata": {
        "id": "R_7HVOoWB5WM"
      },
      "execution_count": null,
      "outputs": []
    },
    {
      "cell_type": "code",
      "source": [
        "dnnModel.fit(X_train,epochs=150,batch_size=64,verbose=1,validation_split=0.1)"
      ],
      "metadata": {
        "id": "szCorS00F9as"
      },
      "execution_count": null,
      "outputs": []
    },
    {
      "cell_type": "code",
      "source": [
        "testLoss,testAccuracy=dnnModel.evaluate(X_test,Y_test)"
      ],
      "metadata": {
        "id": "nJmKhXTGHGJm"
      },
      "execution_count": null,
      "outputs": []
    },
    {
      "cell_type": "code",
      "source": [
        "print(\"testAccuracy=\",testAccuracy)"
      ],
      "metadata": {
        "id": "68AgRUz8Hi-D"
      },
      "execution_count": null,
      "outputs": []
    }
  ]
}