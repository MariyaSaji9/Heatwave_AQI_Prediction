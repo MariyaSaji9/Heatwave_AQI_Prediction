{
  "cells": [
    {
      "cell_type": "code",
      "execution_count": null,
      "metadata": {
        "id": "Yd5qn-EK8Gff"
      },
      "outputs": [],
      "source": [
        "import pandas as pd\n",
        "import numpy as np\n",
        "df = pd.read_csv(\"/content/drive/MyDrive/PROJECT/Dataset/trial/karimnagar_T.csv\")\n"
      ]
    },
    {
      "cell_type": "code",
      "execution_count": null,
      "metadata": {
        "colab": {
          "base_uri": "https://localhost:8080/",
          "height": 505
        },
        "id": "zNsyU5uwV9AV",
        "outputId": "32d2f5ab-d9e4-4aa4-a3ac-20f083727bec"
      },
      "outputs": [
        {
          "output_type": "execute_result",
          "data": {
            "text/plain": [
              "      Unnamed: 0       Date  cumm_rainfall  temp_min  temp_max  humidity_min  \\\n",
              "0              0   1/1/2018            0.0      13.6      33.2          32.0   \n",
              "1              1   1/2/2018            0.0      13.3      34.3          37.1   \n",
              "2              2   1/3/2018            0.0      13.0      33.2          37.7   \n",
              "3              3   1/4/2018            0.0      11.8      33.4          33.5   \n",
              "4              4   1/5/2018            0.0      12.3      32.9          31.6   \n",
              "...          ...        ...            ...       ...       ...           ...   \n",
              "1729        1729  9/26/2022            0.0      24.1      32.8          58.4   \n",
              "1730        1730  9/27/2022            0.0      24.1      33.3          62.5   \n",
              "1731        1731  9/28/2022            0.0      24.8      32.3          69.0   \n",
              "1732        1732  9/29/2022           23.9      24.0      32.1          70.3   \n",
              "1733        1733  9/30/2022            5.6      23.2      32.6          71.1   \n",
              "\n",
              "      humidity_max  wind_speed_min  wind_speed_max heat_w  \n",
              "0             47.7             0.0             2.9      F  \n",
              "1             45.7             0.0             2.2      F  \n",
              "2             55.2             0.0             3.5      F  \n",
              "3             61.0             0.0             0.8      F  \n",
              "4             53.2             0.0             2.6      F  \n",
              "...            ...             ...             ...    ...  \n",
              "1729          98.6             0.0             7.8      F  \n",
              "1730          94.3             0.0            10.4      F  \n",
              "1731          98.0             0.0             6.5      F  \n",
              "1732          98.9             0.0             7.1      F  \n",
              "1733          98.7             0.0            10.2      F  \n",
              "\n",
              "[1734 rows x 10 columns]"
            ],
            "text/html": [
              "\n",
              "  <div id=\"df-484c905c-07a7-43d1-9764-d94806fa34b9\">\n",
              "    <div class=\"colab-df-container\">\n",
              "      <div>\n",
              "<style scoped>\n",
              "    .dataframe tbody tr th:only-of-type {\n",
              "        vertical-align: middle;\n",
              "    }\n",
              "\n",
              "    .dataframe tbody tr th {\n",
              "        vertical-align: top;\n",
              "    }\n",
              "\n",
              "    .dataframe thead th {\n",
              "        text-align: right;\n",
              "    }\n",
              "</style>\n",
              "<table border=\"1\" class=\"dataframe\">\n",
              "  <thead>\n",
              "    <tr style=\"text-align: right;\">\n",
              "      <th></th>\n",
              "      <th>Unnamed: 0</th>\n",
              "      <th>Date</th>\n",
              "      <th>cumm_rainfall</th>\n",
              "      <th>temp_min</th>\n",
              "      <th>temp_max</th>\n",
              "      <th>humidity_min</th>\n",
              "      <th>humidity_max</th>\n",
              "      <th>wind_speed_min</th>\n",
              "      <th>wind_speed_max</th>\n",
              "      <th>heat_w</th>\n",
              "    </tr>\n",
              "  </thead>\n",
              "  <tbody>\n",
              "    <tr>\n",
              "      <th>0</th>\n",
              "      <td>0</td>\n",
              "      <td>1/1/2018</td>\n",
              "      <td>0.0</td>\n",
              "      <td>13.6</td>\n",
              "      <td>33.2</td>\n",
              "      <td>32.0</td>\n",
              "      <td>47.7</td>\n",
              "      <td>0.0</td>\n",
              "      <td>2.9</td>\n",
              "      <td>F</td>\n",
              "    </tr>\n",
              "    <tr>\n",
              "      <th>1</th>\n",
              "      <td>1</td>\n",
              "      <td>1/2/2018</td>\n",
              "      <td>0.0</td>\n",
              "      <td>13.3</td>\n",
              "      <td>34.3</td>\n",
              "      <td>37.1</td>\n",
              "      <td>45.7</td>\n",
              "      <td>0.0</td>\n",
              "      <td>2.2</td>\n",
              "      <td>F</td>\n",
              "    </tr>\n",
              "    <tr>\n",
              "      <th>2</th>\n",
              "      <td>2</td>\n",
              "      <td>1/3/2018</td>\n",
              "      <td>0.0</td>\n",
              "      <td>13.0</td>\n",
              "      <td>33.2</td>\n",
              "      <td>37.7</td>\n",
              "      <td>55.2</td>\n",
              "      <td>0.0</td>\n",
              "      <td>3.5</td>\n",
              "      <td>F</td>\n",
              "    </tr>\n",
              "    <tr>\n",
              "      <th>3</th>\n",
              "      <td>3</td>\n",
              "      <td>1/4/2018</td>\n",
              "      <td>0.0</td>\n",
              "      <td>11.8</td>\n",
              "      <td>33.4</td>\n",
              "      <td>33.5</td>\n",
              "      <td>61.0</td>\n",
              "      <td>0.0</td>\n",
              "      <td>0.8</td>\n",
              "      <td>F</td>\n",
              "    </tr>\n",
              "    <tr>\n",
              "      <th>4</th>\n",
              "      <td>4</td>\n",
              "      <td>1/5/2018</td>\n",
              "      <td>0.0</td>\n",
              "      <td>12.3</td>\n",
              "      <td>32.9</td>\n",
              "      <td>31.6</td>\n",
              "      <td>53.2</td>\n",
              "      <td>0.0</td>\n",
              "      <td>2.6</td>\n",
              "      <td>F</td>\n",
              "    </tr>\n",
              "    <tr>\n",
              "      <th>...</th>\n",
              "      <td>...</td>\n",
              "      <td>...</td>\n",
              "      <td>...</td>\n",
              "      <td>...</td>\n",
              "      <td>...</td>\n",
              "      <td>...</td>\n",
              "      <td>...</td>\n",
              "      <td>...</td>\n",
              "      <td>...</td>\n",
              "      <td>...</td>\n",
              "    </tr>\n",
              "    <tr>\n",
              "      <th>1729</th>\n",
              "      <td>1729</td>\n",
              "      <td>9/26/2022</td>\n",
              "      <td>0.0</td>\n",
              "      <td>24.1</td>\n",
              "      <td>32.8</td>\n",
              "      <td>58.4</td>\n",
              "      <td>98.6</td>\n",
              "      <td>0.0</td>\n",
              "      <td>7.8</td>\n",
              "      <td>F</td>\n",
              "    </tr>\n",
              "    <tr>\n",
              "      <th>1730</th>\n",
              "      <td>1730</td>\n",
              "      <td>9/27/2022</td>\n",
              "      <td>0.0</td>\n",
              "      <td>24.1</td>\n",
              "      <td>33.3</td>\n",
              "      <td>62.5</td>\n",
              "      <td>94.3</td>\n",
              "      <td>0.0</td>\n",
              "      <td>10.4</td>\n",
              "      <td>F</td>\n",
              "    </tr>\n",
              "    <tr>\n",
              "      <th>1731</th>\n",
              "      <td>1731</td>\n",
              "      <td>9/28/2022</td>\n",
              "      <td>0.0</td>\n",
              "      <td>24.8</td>\n",
              "      <td>32.3</td>\n",
              "      <td>69.0</td>\n",
              "      <td>98.0</td>\n",
              "      <td>0.0</td>\n",
              "      <td>6.5</td>\n",
              "      <td>F</td>\n",
              "    </tr>\n",
              "    <tr>\n",
              "      <th>1732</th>\n",
              "      <td>1732</td>\n",
              "      <td>9/29/2022</td>\n",
              "      <td>23.9</td>\n",
              "      <td>24.0</td>\n",
              "      <td>32.1</td>\n",
              "      <td>70.3</td>\n",
              "      <td>98.9</td>\n",
              "      <td>0.0</td>\n",
              "      <td>7.1</td>\n",
              "      <td>F</td>\n",
              "    </tr>\n",
              "    <tr>\n",
              "      <th>1733</th>\n",
              "      <td>1733</td>\n",
              "      <td>9/30/2022</td>\n",
              "      <td>5.6</td>\n",
              "      <td>23.2</td>\n",
              "      <td>32.6</td>\n",
              "      <td>71.1</td>\n",
              "      <td>98.7</td>\n",
              "      <td>0.0</td>\n",
              "      <td>10.2</td>\n",
              "      <td>F</td>\n",
              "    </tr>\n",
              "  </tbody>\n",
              "</table>\n",
              "<p>1734 rows × 10 columns</p>\n",
              "</div>\n",
              "      <button class=\"colab-df-convert\" onclick=\"convertToInteractive('df-484c905c-07a7-43d1-9764-d94806fa34b9')\"\n",
              "              title=\"Convert this dataframe to an interactive table.\"\n",
              "              style=\"display:none;\">\n",
              "        \n",
              "  <svg xmlns=\"http://www.w3.org/2000/svg\" height=\"24px\"viewBox=\"0 0 24 24\"\n",
              "       width=\"24px\">\n",
              "    <path d=\"M0 0h24v24H0V0z\" fill=\"none\"/>\n",
              "    <path d=\"M18.56 5.44l.94 2.06.94-2.06 2.06-.94-2.06-.94-.94-2.06-.94 2.06-2.06.94zm-11 1L8.5 8.5l.94-2.06 2.06-.94-2.06-.94L8.5 2.5l-.94 2.06-2.06.94zm10 10l.94 2.06.94-2.06 2.06-.94-2.06-.94-.94-2.06-.94 2.06-2.06.94z\"/><path d=\"M17.41 7.96l-1.37-1.37c-.4-.4-.92-.59-1.43-.59-.52 0-1.04.2-1.43.59L10.3 9.45l-7.72 7.72c-.78.78-.78 2.05 0 2.83L4 21.41c.39.39.9.59 1.41.59.51 0 1.02-.2 1.41-.59l7.78-7.78 2.81-2.81c.8-.78.8-2.07 0-2.86zM5.41 20L4 18.59l7.72-7.72 1.47 1.35L5.41 20z\"/>\n",
              "  </svg>\n",
              "      </button>\n",
              "      \n",
              "  <style>\n",
              "    .colab-df-container {\n",
              "      display:flex;\n",
              "      flex-wrap:wrap;\n",
              "      gap: 12px;\n",
              "    }\n",
              "\n",
              "    .colab-df-convert {\n",
              "      background-color: #E8F0FE;\n",
              "      border: none;\n",
              "      border-radius: 50%;\n",
              "      cursor: pointer;\n",
              "      display: none;\n",
              "      fill: #1967D2;\n",
              "      height: 32px;\n",
              "      padding: 0 0 0 0;\n",
              "      width: 32px;\n",
              "    }\n",
              "\n",
              "    .colab-df-convert:hover {\n",
              "      background-color: #E2EBFA;\n",
              "      box-shadow: 0px 1px 2px rgba(60, 64, 67, 0.3), 0px 1px 3px 1px rgba(60, 64, 67, 0.15);\n",
              "      fill: #174EA6;\n",
              "    }\n",
              "\n",
              "    [theme=dark] .colab-df-convert {\n",
              "      background-color: #3B4455;\n",
              "      fill: #D2E3FC;\n",
              "    }\n",
              "\n",
              "    [theme=dark] .colab-df-convert:hover {\n",
              "      background-color: #434B5C;\n",
              "      box-shadow: 0px 1px 3px 1px rgba(0, 0, 0, 0.15);\n",
              "      filter: drop-shadow(0px 1px 2px rgba(0, 0, 0, 0.3));\n",
              "      fill: #FFFFFF;\n",
              "    }\n",
              "  </style>\n",
              "\n",
              "      <script>\n",
              "        const buttonEl =\n",
              "          document.querySelector('#df-484c905c-07a7-43d1-9764-d94806fa34b9 button.colab-df-convert');\n",
              "        buttonEl.style.display =\n",
              "          google.colab.kernel.accessAllowed ? 'block' : 'none';\n",
              "\n",
              "        async function convertToInteractive(key) {\n",
              "          const element = document.querySelector('#df-484c905c-07a7-43d1-9764-d94806fa34b9');\n",
              "          const dataTable =\n",
              "            await google.colab.kernel.invokeFunction('convertToInteractive',\n",
              "                                                     [key], {});\n",
              "          if (!dataTable) return;\n",
              "\n",
              "          const docLinkHtml = 'Like what you see? Visit the ' +\n",
              "            '<a target=\"_blank\" href=https://colab.research.google.com/notebooks/data_table.ipynb>data table notebook</a>'\n",
              "            + ' to learn more about interactive tables.';\n",
              "          element.innerHTML = '';\n",
              "          dataTable['output_type'] = 'display_data';\n",
              "          await google.colab.output.renderOutput(dataTable, element);\n",
              "          const docLink = document.createElement('div');\n",
              "          docLink.innerHTML = docLinkHtml;\n",
              "          element.appendChild(docLink);\n",
              "        }\n",
              "      </script>\n",
              "    </div>\n",
              "  </div>\n",
              "  "
            ]
          },
          "metadata": {},
          "execution_count": 21
        }
      ],
      "source": [
        "df"
      ]
    },
    {
      "cell_type": "code",
      "execution_count": null,
      "metadata": {
        "id": "yRw2ia2UVaB2"
      },
      "outputs": [],
      "source": [
        "df1=df.drop(columns=[\"Date\",\"heat_w\",\"Unnamed: 0\"])\n",
        "#df1=df.drop(columns=[\"heat_w\"])"
      ]
    },
    {
      "cell_type": "code",
      "execution_count": null,
      "metadata": {
        "colab": {
          "base_uri": "https://localhost:8080/"
        },
        "id": "uiQD_hsCbcc1",
        "outputId": "790b19c3-a6cf-4a9b-decd-f17311b10c34"
      },
      "outputs": [
        {
          "output_type": "stream",
          "name": "stdout",
          "text": [
            "      cumm_rainfall  temp_min  temp_max  humidity_min  humidity_max  \\\n",
            "0               0.0      13.6      33.2          32.0          47.7   \n",
            "1               0.0      13.3      34.3          37.1          45.7   \n",
            "2               0.0      13.0      33.2          37.7          55.2   \n",
            "3               0.0      11.8      33.4          33.5          61.0   \n",
            "4               0.0      12.3      32.9          31.6          53.2   \n",
            "...             ...       ...       ...           ...           ...   \n",
            "1729            0.0      24.1      32.8          58.4          98.6   \n",
            "1730            0.0      24.1      33.3          62.5          94.3   \n",
            "1731            0.0      24.8      32.3          69.0          98.0   \n",
            "1732           23.9      24.0      32.1          70.3          98.9   \n",
            "1733            5.6      23.2      32.6          71.1          98.7   \n",
            "\n",
            "      wind_speed_min  wind_speed_max  \n",
            "0                0.0             2.9  \n",
            "1                0.0             2.2  \n",
            "2                0.0             3.5  \n",
            "3                0.0             0.8  \n",
            "4                0.0             2.6  \n",
            "...              ...             ...  \n",
            "1729             0.0             7.8  \n",
            "1730             0.0            10.4  \n",
            "1731             0.0             6.5  \n",
            "1732             0.0             7.1  \n",
            "1733             0.0            10.2  \n",
            "\n",
            "[1734 rows x 7 columns]\n"
          ]
        }
      ],
      "source": [
        "#print(df1.iloc[0:,6])\n",
        "X = df1.iloc[:,:8]  #independent columns\n",
        "y = df.iloc[:,9]    #target column i.e price range\n",
        "print(X)\n",
        "#print(y)\n",
        "if(np.NaN in X.values):\n",
        "  print(\"oooo\")"
      ]
    },
    {
      "cell_type": "code",
      "source": [
        "print(y)"
      ],
      "metadata": {
        "colab": {
          "base_uri": "https://localhost:8080/"
        },
        "id": "bPd25_EzHQvU",
        "outputId": "bb50ce35-e39b-46c2-8eaf-c94e4ad4f502"
      },
      "execution_count": null,
      "outputs": [
        {
          "output_type": "stream",
          "name": "stdout",
          "text": [
            "0       F\n",
            "1       F\n",
            "2       F\n",
            "3       F\n",
            "4       F\n",
            "       ..\n",
            "1729    F\n",
            "1730    F\n",
            "1731    F\n",
            "1732    F\n",
            "1733    F\n",
            "Name: heat_w, Length: 1734, dtype: object\n"
          ]
        }
      ]
    },
    {
      "cell_type": "code",
      "execution_count": null,
      "metadata": {
        "id": "VYdIHfXvhDyX",
        "colab": {
          "base_uri": "https://localhost:8080/"
        },
        "outputId": "9d2aaecd-01d7-4252-b1b4-93345ad71ca0"
      },
      "outputs": [
        {
          "output_type": "stream",
          "name": "stdout",
          "text": [
            "0       F\n",
            "1       F\n",
            "2       F\n",
            "3       F\n",
            "4       F\n",
            "       ..\n",
            "1729    F\n",
            "1730    F\n",
            "1731    F\n",
            "1732    F\n",
            "1733    F\n",
            "Name: heat_w, Length: 1734, dtype: object\n",
            "[0 0 0 ... 0 0 0]\n"
          ]
        }
      ],
      "source": [
        "from sklearn.preprocessing import LabelEncoder\n",
        "le = LabelEncoder()\n",
        "print(y)\n",
        "# Fit and transform the categorical feature using LabelEncoder\n",
        "y = le.fit_transform(y)\n",
        "print(y)"
      ]
    },
    {
      "cell_type": "code",
      "source": [
        "from sklearn.ensemble import ExtraTreesClassifier\n",
        "import matplotlib.pyplot as plt\n",
        "model = ExtraTreesClassifier()\n",
        "model.fit(X,y)\n",
        "print(model.feature_importances_) #use inbuilt class feature_importances of tree based classifiers\n",
        "#plot graph of feature importances for better visualization\n",
        "feat_importances = pd.Series(model.feature_importances_)\n",
        "feat_importances.nlargest(10).plot(kind='barh')\n",
        "plt.show()"
      ],
      "metadata": {
        "colab": {
          "base_uri": "https://localhost:8080/",
          "height": 465
        },
        "id": "qNWNHkSEJBgz",
        "outputId": "cfb063aa-ced7-4bbb-a779-54168ffda138"
      },
      "execution_count": null,
      "outputs": [
        {
          "output_type": "stream",
          "name": "stdout",
          "text": [
            "[0.012147   0.17404946 0.44031088 0.164305   0.10408639 0.03445164\n",
            " 0.07064964]\n"
          ]
        },
        {
          "output_type": "display_data",
          "data": {
            "text/plain": [
              "<Figure size 640x480 with 1 Axes>"
            ],
            "image/png": "[encoded data removed]"
          },
          "metadata": {}
        }
      ]
    }
  ],
  "metadata": {
    "colab": {
      "provenance": []
    },
    "kernelspec": {
      "display_name": "Python 3",
      "name": "python3"
    },
    "language_info": {
      "name": "python"
    }
  },
  "nbformat": 4,
  "nbformat_minor": 0
}